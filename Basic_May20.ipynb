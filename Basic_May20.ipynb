{
 "cells": [
  {
   "cell_type": "code",
   "execution_count": 49,
   "id": "0735aabf",
   "metadata": {},
   "outputs": [
    {
     "name": "stdout",
     "output_type": "stream",
     "text": [
      "Less than : False\n",
      "Less than & equal to : False\n",
      "Greater than : True\n",
      "Greater than & equal to : True\n",
      "Equal to : False\n",
      "Not Equal to : True \n",
      "\n",
      "Boolean vs Integer:\n",
      "False\n",
      "False\n",
      "31\n",
      "5\n",
      "1 \n",
      "\n",
      "String Comparison:\n",
      "True \n",
      "\n",
      "Integer Vs Float:\n",
      "True \n",
      "\n",
      "Error\n"
     ]
    },
    {
     "ename": "TypeError",
     "evalue": "'>' not supported between instances of 'str' and 'int'",
     "output_type": "error",
     "traceback": [
      "\u001b[1;31m---------------------------------------------------------------------------\u001b[0m",
      "\u001b[1;31mTypeError\u001b[0m                                 Traceback (most recent call last)",
      "Cell \u001b[1;32mIn[49], line 33\u001b[0m\n\u001b[0;32m     31\u001b[0m \u001b[38;5;66;03m#string with int\u001b[39;00m\n\u001b[0;32m     32\u001b[0m \u001b[38;5;28mprint\u001b[39m(\u001b[38;5;124m'\u001b[39m\u001b[38;5;124mError\u001b[39m\u001b[38;5;124m'\u001b[39m)\n\u001b[1;32m---> 33\u001b[0m \u001b[38;5;28mprint\u001b[39m(\u001b[38;5;124m'\u001b[39m\u001b[38;5;124mintelli\u001b[39m\u001b[38;5;124m'\u001b[39m \u001b[38;5;241m>\u001b[39m \u001b[38;5;241m10\u001b[39m) \u001b[38;5;66;03m# error\u001b[39;00m\n\u001b[0;32m     34\u001b[0m \u001b[38;5;28mprint\u001b[39m(\u001b[38;5;124m'\u001b[39m\u001b[38;5;124m1\u001b[39m\u001b[38;5;124m'\u001b[39m \u001b[38;5;241m>\u001b[39m \u001b[38;5;241m5\u001b[39m)\n",
      "\u001b[1;31mTypeError\u001b[0m: '>' not supported between instances of 'str' and 'int'"
     ]
    }
   ],
   "source": [
    "# Numeric\n",
    "a = 45\n",
    "b = 35\n",
    "\n",
    "print('Less than :', a < b)\n",
    "print('Less than & equal to :',a <=b)\n",
    "print('Greater than :',a > b)\n",
    "print('Greater than & equal to :',a >= b)\n",
    "print('Equal to :',a == b) \n",
    "print('Not Equal to :',a != b,'\\n') \n",
    "\n",
    "#Boolean\n",
    "# True = 1, False = 0\n",
    "a = True\n",
    "b = 10\n",
    "print('Boolean vs Integer:')\n",
    "print(a > b)\n",
    "print(a < 0)\n",
    "print(30 + True)\n",
    "print(5 + False)\n",
    "print(False + True,'\\n')\n",
    "\n",
    "#strings\n",
    "print('String Comparison:')\n",
    "print('intelli' > 'Intelli','\\n')\n",
    "\n",
    "#Flaot\n",
    "print('Integer Vs Float:')\n",
    "print(10.5 > 10,'\\n')\n",
    "\n",
    "#string with int\n",
    "print('Error')\n",
    "print('intelli' > 10) # error\n",
    "print('1' > 5) # error"
   ]
  },
  {
   "cell_type": "code",
   "execution_count": 13,
   "id": "37b2cefd",
   "metadata": {},
   "outputs": [
    {
     "name": "stdout",
     "output_type": "stream",
     "text": [
      "AND  True\n",
      "AND  False\n",
      "OR  True\n",
      "NOT  False\n"
     ]
    }
   ],
   "source": [
    "age = 18\n",
    "city = 'Chennai'\n",
    "condn = (age == 18 ) and (city == 'Chennai')\n",
    "print('AND ', condn)\n",
    "\n",
    "condn = (age == 18 ) and (city == 'chennai')\n",
    "print('AND ', condn)\n",
    "\n",
    "condn = (age == 18 ) or (city == 'Chennai')\n",
    "print('OR ', condn)\n",
    "\n",
    "condn = not(age == 18 ) # Here age is 18 therefore we are looking for age which is not equal to 18\n",
    "print('NOT ', condn)"
   ]
  },
  {
   "cell_type": "code",
   "execution_count": 48,
   "id": "6a71d910",
   "metadata": {},
   "outputs": [
    {
     "name": "stdout",
     "output_type": "stream",
     "text": [
      "The python memory is reused for integers from 0 to 256\n",
      "140716015530760\n",
      "140716015530760\n",
      "True\n",
      "True \n",
      "\n",
      "2596745198480\n",
      "2596745183344\n",
      "True\n",
      "False\n",
      "True \n",
      "\n",
      "2596745195216\n",
      "2596745187824\n",
      "True\n",
      "False\n",
      "True \n",
      "\n"
     ]
    }
   ],
   "source": [
    "print('The python memory is reused for integers from 0 to 256')\n",
    "a = 256\n",
    "b = 256\n",
    "print(id(a)) # id gives memory address location\n",
    "print(id(b))\n",
    "print(a == b) # compares value\n",
    "print(a is b,'\\n') # compares address\n",
    "\n",
    "a = 300\n",
    "b = 300\n",
    "print(id(a))\n",
    "print(id(b))\n",
    "print(a == b) # compares value\n",
    "print(a is b) # compares address\n",
    "print(a is not b,'\\n')\n",
    "\n",
    "a = -250\n",
    "b = -250\n",
    "print(id(a))\n",
    "print(id(b))\n",
    "print(a == b) # compares value\n",
    "print(a is b) # compares address\n",
    "print(a is not b,'\\n')"
   ]
  },
  {
   "cell_type": "code",
   "execution_count": 50,
   "id": "725a1394",
   "metadata": {},
   "outputs": [
    {
     "name": "stdout",
     "output_type": "stream",
     "text": [
      "String\n",
      "True\n",
      "True\n",
      "False \n",
      "\n",
      "List/Tuple\n",
      "False\n",
      "False \n",
      "\n",
      "Boolean vs int\n",
      "True \n",
      "\n",
      "Boolean vs String - Error\n"
     ]
    },
    {
     "ename": "TypeError",
     "evalue": "'in <string>' requires string as left operand, not bool",
     "output_type": "error",
     "traceback": [
      "\u001b[1;31m---------------------------------------------------------------------------\u001b[0m",
      "\u001b[1;31mTypeError\u001b[0m                                 Traceback (most recent call last)",
      "Cell \u001b[1;32mIn[50], line 19\u001b[0m\n\u001b[0;32m     17\u001b[0m \u001b[38;5;66;03m#Boolean vs String  \u001b[39;00m\n\u001b[0;32m     18\u001b[0m \u001b[38;5;28mprint\u001b[39m(\u001b[38;5;124m'\u001b[39m\u001b[38;5;124mBoolean vs String - Error\u001b[39m\u001b[38;5;124m'\u001b[39m)\n\u001b[1;32m---> 19\u001b[0m \u001b[38;5;28mprint\u001b[39m(\u001b[38;5;28;01mTrue\u001b[39;00m \u001b[38;5;129;01min\u001b[39;00m a,\u001b[38;5;124m'\u001b[39m\u001b[38;5;130;01m\\n\u001b[39;00m\u001b[38;5;124m'\u001b[39m) \u001b[38;5;66;03m#error\u001b[39;00m\n\u001b[0;32m     21\u001b[0m \u001b[38;5;66;03m#Integer vs String      \u001b[39;00m\n\u001b[0;32m     22\u001b[0m \u001b[38;5;28mprint\u001b[39m(\u001b[38;5;124m'\u001b[39m\u001b[38;5;124mInteger vs String - Error\u001b[39m\u001b[38;5;124m'\u001b[39m)\n",
      "\u001b[1;31mTypeError\u001b[0m: 'in <string>' requires string as left operand, not bool"
     ]
    }
   ],
   "source": [
    "#String\n",
    "print('String')\n",
    "a = 'Intelliflutterbox - An early Math Adventure to AI: An innovative Journey'\n",
    "print( 'f' in a)\n",
    "print( 'flutter' in a)\n",
    "print( 'math' in a,'\\n')\n",
    "\n",
    "#List/Tuple\n",
    "print('List/Tuple')\n",
    "print(10 in [1,2])\n",
    "print(10 in (1,2),'\\n')\n",
    "\n",
    "#Boolean vs int\n",
    "print('Boolean vs int')\n",
    "print(True in [1,2],'\\n') #True - 1 , False = 0\n",
    "\n",
    "#Boolean vs String  \n",
    "print('Boolean vs String - Error')\n",
    "print(True in a,'\\n') #error\n",
    "      \n",
    "#Integer vs String      \n",
    "print('Integer vs String - Error')\n",
    "print( 10 in a,'\\n') #error\n"
   ]
  },
  {
   "cell_type": "code",
   "execution_count": 62,
   "id": "606c0162",
   "metadata": {},
   "outputs": [
    {
     "name": "stdout",
     "output_type": "stream",
     "text": [
      "AND :  8\n",
      "OR :  10\n",
      "XOR :  2\n",
      "Negation :  -11\n",
      "Left shift :  12\n",
      "Right shift :  2\n"
     ]
    }
   ],
   "source": [
    "print('AND : ',10 & 8)\n",
    "print('OR : ',10 | 8)\n",
    "print('XOR : ',10 ^ 8)\n",
    "\n",
    "#Negation\n",
    "print('Negation : ',~10) \n",
    " \n",
    "# Left shift \n",
    "print('Left shift : ', 3 << 2) \n",
    "\n",
    "# Right shift \n",
    "print('Right shift : ',8 >> 2) "
   ]
  },
  {
   "cell_type": "code",
   "execution_count": null,
   "id": "3f93a033",
   "metadata": {},
   "outputs": [],
   "source": []
  }
 ],
 "metadata": {
  "kernelspec": {
   "display_name": "Python 3",
   "language": "python",
   "name": "python3"
  },
  "language_info": {
   "codemirror_mode": {
    "name": "ipython",
    "version": 3
   },
   "file_extension": ".py",
   "mimetype": "text/x-python",
   "name": "python",
   "nbconvert_exporter": "python",
   "pygments_lexer": "ipython3",
   "version": "3.11.5"
  }
 },
 "nbformat": 4,
 "nbformat_minor": 5
}
