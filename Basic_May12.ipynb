{
 "cells": [
  {
   "cell_type": "code",
   "execution_count": 2,
   "id": "fac6d8e4",
   "metadata": {},
   "outputs": [
    {
     "name": "stdout",
     "output_type": "stream",
     "text": [
      "Intelliflutterbox <class 'str'>\n",
      "Intelliflutterbox <class 'str'>\n",
      "Intelli'flutterbox <class 'str'>\n",
      "Intelli\"flutterbox <class 'str'>\n",
      " Intelliflutterbox\n",
      "    An early Math Adventure to AI: An innovative Journey  <class 'str'>\n",
      "10 <class 'int'>\n",
      "10.13 <class 'float'>\n",
      "True <class 'bool'>\n",
      "(10,) <class 'tuple'>\n",
      "[10] <class 'list'>\n",
      "{'a': 10} <class 'dict'>\n",
      "(10+4j) <class 'complex'>\n",
      "None <class 'NoneType'>\n"
     ]
    }
   ],
   "source": [
    "# Datatypes\n",
    "\n",
    "#String\n",
    "a = 'Intelliflutterbox'\n",
    "b = \"Intelliflutterbox\"\n",
    "c = \"Intelli'flutterbox\"\n",
    "d = 'Intelli\"flutterbox'\n",
    "e = ''' Intelliflutterbox\n",
    "    An early Math Adventure to AI: An innovative Journey '''\n",
    "print(a, type(a))\n",
    "print(b, type(b))\n",
    "print(c, type(c))\n",
    "print(d, type(d))\n",
    "print(e, type(e))\n",
    "\n",
    "#Integer\n",
    "a = 10\n",
    "print(a, type(a))\n",
    "\n",
    "#Float\n",
    "a = 10.13\n",
    "print(a, type(a))\n",
    "\n",
    "#Boolean\n",
    "a= True\n",
    "print(a, type(a))\n",
    "\n",
    "#Tuple\n",
    "a = (10,)\n",
    "print(a, type(a))\n",
    "\n",
    "#List\n",
    "a = [10,]\n",
    "print(a, type(a))\n",
    "\n",
    "#Dictionary\n",
    "a = {'a':10}\n",
    "print(a, type(a))\n",
    "\n",
    "#Complex\n",
    "a = 10 + 4j\n",
    "print(a, type(a))\n",
    "\n",
    "#None\n",
    "a = None\n",
    "print(a, type(a))"
   ]
  },
  {
   "cell_type": "code",
   "execution_count": 2,
   "id": "60588637",
   "metadata": {},
   "outputs": [
    {
     "name": "stdout",
     "output_type": "stream",
     "text": [
      "Welcome to IntelliflutterBox\n",
      "Today is Day-1\n",
      "Today is Day-1\n",
      "Today is Day-1\n",
      "Today is Day-1\n",
      "Today is Day-1 and learning 0.10\n",
      "Today is Day-1 and learning 1.00e-01\n",
      "\n",
      "Print None\n"
     ]
    }
   ],
   "source": [
    "# Printing Styles\n",
    "print('Welcome to IntelliflutterBox')\n",
    "\n",
    "day = 1\n",
    "print(f'Today is Day-{1}')\n",
    "\n",
    "day = 1\n",
    "print('Today is Day-{}'.format(day))\n",
    "\n",
    "day = 1\n",
    "print('Today is Day-{}'.format(day))\n",
    "\n",
    "day = 1\n",
    "print('Today is Day-%1d'% (day))\n",
    "\n",
    "day = 1\n",
    "learn_rate = 0.1\n",
    "print('Today is Day-%1d and learning %.2f'% (day,learn_rate)) #\n",
    "print('Today is Day-%1d and learning %.2e'% (day,learn_rate)) #Exp\n",
    "\n",
    "# An output function will not have return value. the return value for print is none\n",
    "print('Print',print())"
   ]
  },
  {
   "cell_type": "code",
   "execution_count": 3,
   "id": "f7165671",
   "metadata": {},
   "outputs": [
    {
     "name": "stdout",
     "output_type": "stream",
     "text": [
      "Hello\n",
      "Hello <class 'str'>\n",
      "Enter you nameIntelliflutterbox\n",
      "Intelliflutterbox <class 'str'>\n",
      "Enter number for a10\n",
      "10 <class 'str'>\n",
      "Enter number for a10\n",
      "10 <class 'int'>\n",
      "Entering\n",
      "Input function Entering\n"
     ]
    }
   ],
   "source": [
    "#Input\n",
    "\n",
    "a = input()\n",
    "print(a,type(a))\n",
    "\n",
    "name = input('Enter you name')\n",
    "print(name,type(name))\n",
    "\n",
    "a = input('Enter number for a')\n",
    "print(a,type(a))\n",
    "\n",
    "a = int(input('Enter number for a'))\n",
    "print(a,type(a))\n",
    "\n",
    "#An input function will have return value. the return value is value to input in\n",
    "print('Input function',input())"
   ]
  },
  {
   "cell_type": "code",
   "execution_count": 4,
   "id": "b96a3838",
   "metadata": {},
   "outputs": [
    {
     "name": "stdout",
     "output_type": "stream",
     "text": [
      "26 <class 'int'>\n",
      "-6 <class 'int'>\n",
      "160 <class 'int'>\n",
      "0.625 <class 'float'>\n",
      "1 <class 'int'>\n",
      "0 <class 'int'>\n",
      "100 <class 'int'>\n"
     ]
    }
   ],
   "source": [
    "# Arithmetic Operators\n",
    "\n",
    "#Addition\n",
    "a = 10 + 16\n",
    "print(a, type(a))\n",
    "\n",
    "#Subtraction\n",
    "a = 10 -  16\n",
    "print(a, type(a))\n",
    "\n",
    "#Multiplication\n",
    "a = 10 * 16\n",
    "print(a, type(a))\n",
    "\n",
    "#Division\n",
    "a = 10 / 16\n",
    "print(a, type(a))\n",
    "\n",
    "#Integer Division\n",
    "a = 10 // 6\n",
    "print(a, type(a))\n",
    "\n",
    "#Modulus\n",
    "a = 10 % 2\n",
    "print(a, type(a))\n",
    "\n",
    "#Exponential\n",
    "a = 10 ** 2\n",
    "print(a, type(a))"
   ]
  },
  {
   "cell_type": "code",
   "execution_count": 5,
   "id": "55567fbf",
   "metadata": {},
   "outputs": [
    {
     "name": "stdout",
     "output_type": "stream",
     "text": [
      "AND\n",
      "0\n",
      "0\n",
      "0\n",
      "1\n",
      "OR\n",
      "1\n",
      "1\n",
      "0\n",
      "1\n",
      "XOR\n",
      "1\n",
      "1\n",
      "0\n",
      "0\n"
     ]
    }
   ],
   "source": [
    "# Logical Gates\n",
    "\n",
    "#AND\n",
    "print(\"AND\")\n",
    "a = 1&0\n",
    "print(a)\n",
    "\n",
    "a = 0&1\n",
    "print(a)\n",
    "\n",
    "a = 0&0\n",
    "print(a)\n",
    "\n",
    "a = 1&1\n",
    "print(a)\n",
    "\n",
    "#OR\n",
    "\n",
    "print(\"OR\")\n",
    "a = 1|0\n",
    "print(a)\n",
    "\n",
    "a = 0|1\n",
    "print(a)\n",
    "\n",
    "a = 0|0\n",
    "print(a)\n",
    "\n",
    "a = 1|1\n",
    "print(a)\n",
    "\n",
    "\n",
    "#XOR\n",
    "print(\"XOR\")\n",
    "a = 1^0\n",
    "print(a)\n",
    "\n",
    "a = 0^1\n",
    "print(a)\n",
    "\n",
    "a = 0^0\n",
    "print(a)\n",
    "\n",
    "a = 1^1\n",
    "print(a)"
   ]
  },
  {
   "cell_type": "code",
   "execution_count": 6,
   "id": "a6556f44",
   "metadata": {},
   "outputs": [
    {
     "name": "stdout",
     "output_type": "stream",
     "text": [
      "26 <class 'int'>\n",
      "-6 <class 'int'>\n",
      "160 <class 'int'>\n",
      "0.625 <class 'float'>\n",
      "1 <class 'int'>\n",
      "0 <class 'int'>\n",
      "100 <class 'int'>\n"
     ]
    }
   ],
   "source": [
    "# Assignment Operators\n",
    "\n",
    "#Addition\n",
    "a = 10\n",
    "a += 16\n",
    "print(a, type(a))\n",
    "\n",
    "#Subtraction\n",
    "a = 10\n",
    "a -=  16\n",
    "print(a, type(a))\n",
    "\n",
    "#Multiplication\n",
    "a = 10\n",
    "a *= 16\n",
    "print(a, type(a))\n",
    "\n",
    "#Division\n",
    "a = 10\n",
    "a /=  16\n",
    "print(a, type(a))\n",
    "\n",
    "#Integer Division\n",
    "a = 10\n",
    "a //=  6\n",
    "print(a, type(a))\n",
    "\n",
    "#Modulus\n",
    "a = 10\n",
    "a %=  2\n",
    "print(a, type(a))\n",
    "\n",
    "#Exponential\n",
    "a = 10\n",
    "a **= 2\n",
    "print(a, type(a))"
   ]
  },
  {
   "cell_type": "code",
   "execution_count": 7,
   "id": "cf6abd16",
   "metadata": {},
   "outputs": [
    {
     "name": "stdout",
     "output_type": "stream",
     "text": [
      "aaa\n",
      "(1, 3, 1, 3, 1, 3)\n",
      "[1, 3, 1, 3, 1, 3]\n",
      "(30+12j)\n"
     ]
    }
   ],
   "source": [
    "#Multiplication between any data type with and integer is allowed in Python, with dictionary it is not possible\n",
    "\n",
    "#String\n",
    "a = 'a'\n",
    "print(a*3)\n",
    "\n",
    "#Tuple\n",
    "a = (1,3)\n",
    "print(a*3) \n",
    "\n",
    "#List\n",
    "a = [1,3]\n",
    "print(a*3) \n",
    "\n",
    "#Complex\n",
    "a = 10 + 4j\n",
    "print(a*3)"
   ]
  },
  {
   "cell_type": "code",
   "execution_count": null,
   "id": "5cec5395",
   "metadata": {},
   "outputs": [],
   "source": []
  }
 ],
 "metadata": {
  "kernelspec": {
   "display_name": "Python 3",
   "language": "python",
   "name": "python3"
  },
  "language_info": {
   "codemirror_mode": {
    "name": "ipython",
    "version": 3
   },
   "file_extension": ".py",
   "mimetype": "text/x-python",
   "name": "python",
   "nbconvert_exporter": "python",
   "pygments_lexer": "ipython3",
   "version": "3.11.5"
  }
 },
 "nbformat": 4,
 "nbformat_minor": 5
}
