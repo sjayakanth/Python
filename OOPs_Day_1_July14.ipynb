{
 "cells": [
  {
   "cell_type": "code",
   "execution_count": 43,
   "id": "bac4eee1",
   "metadata": {
    "scrolled": true
   },
   "outputs": [
    {
     "name": "stdout",
     "output_type": "stream",
     "text": [
      "Iam Here\n",
      "18\n",
      "-12\n"
     ]
    }
   ],
   "source": [
    "class Math: #Pasacal Case : MathProgram    \n",
    "    c = 10\n",
    "    def __init__(self,a1,b1): # constructor - Dunder / Magic Method \n",
    "        self.a = a1\n",
    "        self.b = b1\n",
    "        print('Iam Here')\n",
    "            \n",
    "    def add(self):\n",
    "        return(self.a+self.b+Math.c)\n",
    "\n",
    "    def sub(self):\n",
    "        return(self.a-self.b-Math.c)\n",
    "\n",
    "math1 = Math(3,5)\n",
    "print(math1.add())\n",
    "print(math1.sub())\n"
   ]
  },
  {
   "cell_type": "code",
   "execution_count": 21,
   "id": "f826b496",
   "metadata": {
    "scrolled": true
   },
   "outputs": [
    {
     "name": "stdout",
     "output_type": "stream",
     "text": [
      "My car is Nissan of model Altima, color Red & year is 2018\n",
      "My car is Nissan of model Altima, color Red & year is 2018\n",
      "My car is Nissan of model Altima, color green & year is 2018\n"
     ]
    }
   ],
   "source": [
    "class Car:\n",
    "    color = 'Red' #class variable #global\n",
    "    def __init__(self,year, make, model): #local variables\n",
    "        self.year =  year\n",
    "        self.make = make\n",
    "        self.model = model\n",
    "    \n",
    "    def display(self): #local function\n",
    "        print(f'My car is {self.make} of model {self.model}, color {Car.color} & year is {self.year}')\n",
    "              \n",
    "\n",
    "car1 = Car(2018,'Nissan','Altima')     \n",
    "car1.display()\n",
    "car1.color = 'green'\n",
    "car1.display()\n",
    "Car.color = 'green' # change class varible directly\n",
    "car1.display()"
   ]
  },
  {
   "cell_type": "code",
   "execution_count": 22,
   "id": "4c087681",
   "metadata": {},
   "outputs": [
    {
     "name": "stdout",
     "output_type": "stream",
     "text": [
      "8\n"
     ]
    }
   ],
   "source": [
    "def add(a,b):\n",
    "        return(a+b)\n",
    "print(add(3,5))"
   ]
  },
  {
   "cell_type": "code",
   "execution_count": 34,
   "id": "c7b238af",
   "metadata": {},
   "outputs": [
    {
     "name": "stdout",
     "output_type": "stream",
     "text": [
      "My car is Nissan of model Altima, color Red & year is 2018\n",
      "and has a nikon150 12mp Camera\n",
      "Parent is called\n",
      "My car is Nissan of model Altima, color green & year is 2019\n",
      "and has a nikon150 12mp Camera\n"
     ]
    }
   ],
   "source": [
    "#Single: Parent -Child Property\n",
    "class Car:\n",
    "    color = 'Red'\n",
    "    def __init__(self,year, make, model):\n",
    "        self.year =  year\n",
    "        self.make = make\n",
    "        self.model = model\n",
    "    \n",
    "    def display(self):\n",
    "        print(f'My car is {self.make} of model {self.model}, color {Car.color} & year is {self.year}')\n",
    "        \n",
    "    def call(self):\n",
    "        print('Parent is called')\n",
    "        \n",
    "class Accessory(Car): #Method resolution order - overriding\n",
    " \n",
    "    def __init__(self, year,make,model,dashboard_camera):\n",
    "        super().__init__(year,make,model)       # initiating parent class\n",
    "        self.dashboard_camera = dashboard_camera #child attribute-cannot be accessed by parent\n",
    "    \n",
    "    def display(self):\n",
    "        print(f'My car is {self.make} of model {self.model}, color {Car.color} & year is {self.year}')\n",
    "        print(f'and has a {self.dashboard_camera} Camera')\n",
    "\n",
    "car1 = Accessory(2018,'Nissan','Altima','nikon150 12mp')    \n",
    "car1.display() #chil is called\n",
    "car1.call() #parent fucntion is called\n",
    "car1.year = 2019\n",
    "Car.color = 'green'\n",
    "car1.display()"
   ]
  },
  {
   "cell_type": "code",
   "execution_count": 42,
   "id": "a8f29e28",
   "metadata": {},
   "outputs": [
    {
     "name": "stdout",
     "output_type": "stream",
     "text": [
      "My car is Nissan of model Altima, color Red & year is 2018\n",
      "and has a nikon150 12mp Camera\n",
      "Engine Name is : V6 Turbo\n",
      "Parent 2 is called\n"
     ]
    }
   ],
   "source": [
    "#Multiple : Father Mother & child\n",
    "class Car:\n",
    "    color = 'Red'\n",
    "    def __init__(self,year, make, model):\n",
    "        self.year =  year\n",
    "        self.make = make\n",
    "        self.model = model\n",
    "    \n",
    "    def display(self):\n",
    "        print(f'Car My car is {self.make} of model {self.model}, color {Car.color} & year is {self.year}')\n",
    "    \n",
    "    def call(self):\n",
    "        print('Parent 1 is called')\n",
    "\n",
    "class Engine(): \n",
    "    def __init__(self,name):\n",
    "        self.name =  name\n",
    "    \n",
    "    def call(self):\n",
    "        print('Parent 2 is called')\n",
    "    \n",
    "    def display(self):\n",
    "        print(f'Engine My car is {self.make} of model {self.model}, color {Car.color} & year is {self.year}')\n",
    "   \n",
    "class Accessory(Engine,Car): #Child-parent1-parent2\n",
    " \n",
    "    def __init__(self, year,make,model,name,dashboard_camera):\n",
    "        Car.__init__(self,year,make,model)\n",
    "        Engine.__init__(self,name)   \n",
    "        self.dashboard_camera = dashboard_camera\n",
    "    \n",
    "    def display(self):\n",
    "        print(f'My car is {self.make} of model {self.model}, color {Car.color} & year is {self.year}')\n",
    "        print(f'and has a {self.dashboard_camera} Camera')\n",
    "        print(f'Engine Name is : {self.name}')\n",
    "\n",
    "car1 = Accessory(2018,'Nissan','Altima','V6 Turbo','nikon150 12mp')    \n",
    "car1.display()\n",
    "car1.call()"
   ]
  },
  {
   "cell_type": "code",
   "execution_count": null,
   "id": "94a3902e",
   "metadata": {},
   "outputs": [],
   "source": [
    "#Multilevel : Grandparent-parent-child\n",
    "#initialization\n",
    "class Car:\n",
    "    pass\n",
    "Engine(Car)\n",
    "Accessory(Engine)"
   ]
  }
 ],
 "metadata": {
  "kernelspec": {
   "display_name": "Python 3",
   "language": "python",
   "name": "python3"
  },
  "language_info": {
   "codemirror_mode": {
    "name": "ipython",
    "version": 3
   },
   "file_extension": ".py",
   "mimetype": "text/x-python",
   "name": "python",
   "nbconvert_exporter": "python",
   "pygments_lexer": "ipython3",
   "version": "3.11.5"
  }
 },
 "nbformat": 4,
 "nbformat_minor": 5
}
