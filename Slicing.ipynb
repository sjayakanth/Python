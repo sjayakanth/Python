{
 "cells": [
  {
   "cell_type": "code",
   "execution_count": 11,
   "id": "8054698e",
   "metadata": {},
   "outputs": [
    {
     "name": "stdout",
     "output_type": "stream",
     "text": [
      "[0:2] [10, 20]\n",
      "[:4] [10, 20, 30, 40]\n",
      "[0:] [10, 20, 30, 40, 50]\n",
      "[:] [10, 20, 30, 40, 50]\n",
      "[0:5:2] [10, 30, 50]\n"
     ]
    }
   ],
   "source": [
    "#Positive direction\n",
    "a = [10,20,30,40,50]\n",
    "\n",
    "print('[0:2]',a[0:2])\n",
    "\n",
    "print('[:4]',a[:4])\n",
    "\n",
    "print('[0:]',a[0:])\n",
    "\n",
    "print('[:]',a[:])\n",
    "\n",
    "#Skipping 2 steps\n",
    "print('[0:5:2]',a[0:5:2])"
   ]
  },
  {
   "cell_type": "code",
   "execution_count": 1,
   "id": "488887f7",
   "metadata": {},
   "outputs": [
    {
     "name": "stdout",
     "output_type": "stream",
     "text": [
      "[-1:] [50]\n",
      "[-1:-3:-1] [50, 40]\n",
      "[:-5] 10\n"
     ]
    }
   ],
   "source": [
    "#Negative direction\n",
    "a = [10,20,30,40,50]\n",
    "\n",
    "print('[-1:]',a[-1:]) \n",
    "\n",
    "print('[-1:-3:-1]',a[-1:-3:-1])\n",
    "\n",
    "print('[:-5]',a[-5])"
   ]
  },
  {
   "cell_type": "code",
   "execution_count": 33,
   "id": "be5d22ed",
   "metadata": {},
   "outputs": [
    {
     "name": "stdout",
     "output_type": "stream",
     "text": [
      "[0:2:-1] []\n",
      "[-1:-3:] []\n",
      "[-1:2:-1] [50, 40]\n",
      "[1:-1:1] [20, 30, 40]\n"
     ]
    }
   ],
   "source": [
    "#step is positve hence no rows returned\n",
    "print('[0:2:-1]',a[0:2:-1]) \n",
    "\n",
    "#step is positive hence no rows returned\n",
    "print('[-1:-3:]',a[-1:-3]) \n",
    "\n",
    "#step is negative, when pointer starts @ -1 it can travel in backward direction as step is -1 and reach 2\n",
    "print('[-1:2:-1]',a[-1:2:-1])\n",
    "\n",
    "#step is positive, when pointer starts @ 2 it can travel in foward direction and reach -1 direction and reach 2\n",
    "print('[1:-1:1]',a[1:-1:1])"
   ]
  },
  {
   "cell_type": "code",
   "execution_count": 76,
   "id": "7926a290",
   "metadata": {},
   "outputs": [
    {
     "name": "stdout",
     "output_type": "stream",
     "text": [
      "All rows and all columns from index 1\n",
      "[[2 7]\n",
      " [4 8]]\n",
      "\n",
      "First row and first column\n",
      "1\n",
      "\n",
      "Starts first row travel in +ve direction and reach last index-1\n",
      "[[1 2]\n",
      " [3 4]]\n"
     ]
    }
   ],
   "source": [
    "#Slicing two dimensions\n",
    "import numpy as np\n",
    "\n",
    "a = np.array([[1,2,7],[3,4,8]])\n",
    "\n",
    "print('All rows and all columns from index 1')\n",
    "print(a[:,1:])\n",
    "\n",
    "print('\\nFirst row and first column')\n",
    "print(a[0,0])\n",
    "\n",
    "print('\\nStarts first row travel in +ve direction and reach last index-1')\n",
    "print(a[:,:-1])"
   ]
  },
  {
   "cell_type": "code",
   "execution_count": 64,
   "id": "f2030dff",
   "metadata": {},
   "outputs": [
    {
     "name": "stdout",
     "output_type": "stream",
     "text": [
      "Reverse a string: xobrettulfilletni\n",
      "Pick every 2 letter: itliltebx\n",
      "Slice last 3 letters: box\n",
      "Slice characters in between: tell\n",
      "Slice characters in between: in box flutterflutterflutter\n"
     ]
    }
   ],
   "source": [
    "#Fun with letters\n",
    "a='intelliflutterbox'\n",
    "print('Reverse a string:',a[::-1])\n",
    "\n",
    "print('Pick every 2 letter:',a[::2])\n",
    "\n",
    "print('Slice last 3 letters:',a[-3::])\n",
    "\n",
    "print('Slice characters in between:',a[2:6])\n",
    "\n",
    "print('Form a Sentence:',a[0:2] + ' ' + a[-3::] + ' ' + a[7:-3] * 3)"
   ]
  },
  {
   "cell_type": "code",
   "execution_count": null,
   "id": "b03c843b",
   "metadata": {},
   "outputs": [],
   "source": []
  }
 ],
 "metadata": {
  "kernelspec": {
   "display_name": "Python 3",
   "language": "python",
   "name": "python3"
  },
  "language_info": {
   "codemirror_mode": {
    "name": "ipython",
    "version": 3
   },
   "file_extension": ".py",
   "mimetype": "text/x-python",
   "name": "python",
   "nbconvert_exporter": "python",
   "pygments_lexer": "ipython3",
   "version": "3.11.5"
  }
 },
 "nbformat": 4,
 "nbformat_minor": 5
}
